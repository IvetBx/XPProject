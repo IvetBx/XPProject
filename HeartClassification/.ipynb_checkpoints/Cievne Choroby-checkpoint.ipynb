{
 "cells": [
  {
   "cell_type": "code",
   "execution_count": 1,
   "id": "a7294ea0",
   "metadata": {},
   "outputs": [],
   "source": [
    "import sklearn as sk\n",
    "import pandas as pd\n",
    "import os\n",
    "from sklearn.linear_model import LogisticRegression"
   ]
  },
  {
   "cell_type": "code",
   "execution_count": 2,
   "id": "82f655a0",
   "metadata": {},
   "outputs": [
    {
     "name": "stdout",
     "output_type": "stream",
     "text": [
      "0         Yes\n",
      "1         Yes\n",
      "2         Yes\n",
      "3          No\n",
      "4         Yes\n",
      "         ... \n",
      "319790     No\n",
      "319791    Yes\n",
      "319792    Yes\n",
      "319793     No\n",
      "319794    Yes\n",
      "Name: PhysicalActivity, Length: 319795, dtype: object\n"
     ]
    }
   ],
   "source": [
    "os.chdir('/Python/XPProject/HeartClassification/')\n",
    "heart = pd.read_csv('dataset.csv', sep=',',header=0)\n",
    "heart.head()\n",
    "datasize = len(heart.index)\n",
    "y = heart.iloc[:,0]\n",
    "X = heart.iloc[:,:datasize]\n",
    "print(y)"
   ]
  },
  {
   "cell_type": "code",
   "execution_count": 18,
   "id": "d4857861",
   "metadata": {},
   "outputs": [
    {
     "name": "stdout",
     "output_type": "stream",
     "text": [
      "0.822742474916388\n"
     ]
    }
   ],
   "source": [
    "LR = LogisticRegression(random_state=0, solver='lbfgs', multi_class='ovr').fit(X, y)\n",
    "LR.predict(X.iloc[1:,:])\n",
    "print(LR.score(X,y))"
   ]
  },
  {
   "cell_type": "code",
   "execution_count": null,
   "id": "b1ada736",
   "metadata": {},
   "outputs": [],
   "source": []
  }
 ],
 "metadata": {
  "kernelspec": {
   "display_name": "Python 3 (ipykernel)",
   "language": "python",
   "name": "python3"
  },
  "language_info": {
   "codemirror_mode": {
    "name": "ipython",
    "version": 3
   },
   "file_extension": ".py",
   "mimetype": "text/x-python",
   "name": "python",
   "nbconvert_exporter": "python",
   "pygments_lexer": "ipython3",
   "version": "3.10.1"
  }
 },
 "nbformat": 4,
 "nbformat_minor": 5
}
